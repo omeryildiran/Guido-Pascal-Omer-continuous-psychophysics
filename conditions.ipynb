{
 "cells": [
  {
   "cell_type": "code",
   "execution_count": 1,
   "metadata": {},
   "outputs": [],
   "source": [
    "# Create conditions csv file for gaussian_noise_v2.py\n",
    "# conditions are the blob width withe different arcmin\n",
    "import numpy as np\n",
    "import random\n",
    "import pandas as pd"
   ]
  },
  {
   "cell_type": "code",
   "execution_count": 2,
   "metadata": {},
   "outputs": [],
   "source": [
    "blob_widths=[11,13,17,21,25,29]\n",
    "# repeat each condition 5 times\n",
    "repeats=5\n",
    "# repmat\n",
    "#blob_widths=np.repeat(blob_widths,repeats)\n",
    "# create a list of conditions\n",
    "trialN_per_condition=20\n",
    "trialN_per_block=5\n",
    "total_trialN=trialN_per_condition*len(blob_widths)\n"
   ]
  },
  {
   "cell_type": "code",
   "execution_count": 3,
   "metadata": {},
   "outputs": [],
   "source": [
    "conditions=[]\n",
    "for i in range(trialN_per_condition//trialN_per_block):\n",
    "    random.shuffle(blob_widths)\n",
    "    blob_widths_repeated=np.repeat(blob_widths,repeats)\n",
    "    conditions.append(blob_widths_repeated)\n",
    "conditions=np.array(conditions).flatten()"
   ]
  },
  {
   "cell_type": "code",
   "execution_count": 4,
   "metadata": {},
   "outputs": [],
   "source": [
    "#write conditions as npy file\n",
    "np.save('conditions.npy',conditions)"
   ]
  },
  {
   "cell_type": "code",
   "execution_count": 11,
   "metadata": {},
   "outputs": [],
   "source": [
    "conditions_df=pd.DataFrame(conditions, columns=['blob_width'])\n",
    "conditions_df\n",
    "conditions_df.to_csv('conditions.csv', index=False)"
   ]
  },
  {
   "cell_type": "code",
   "execution_count": 71,
   "metadata": {},
   "outputs": [],
   "source": [
    "# create a csv file\n",
    "np.savetxt('conditions.csv',conditions,delimiter=',',fmt='%d')\n"
   ]
  },
  {
   "cell_type": "code",
   "execution_count": null,
   "metadata": {},
   "outputs": [],
   "source": []
  }
 ],
 "metadata": {
  "kernelspec": {
   "display_name": "base",
   "language": "python",
   "name": "python3"
  },
  "language_info": {
   "codemirror_mode": {
    "name": "ipython",
    "version": 3
   },
   "file_extension": ".py",
   "mimetype": "text/x-python",
   "name": "python",
   "nbconvert_exporter": "python",
   "pygments_lexer": "ipython3",
   "version": "3.9.12"
  },
  "orig_nbformat": 4
 },
 "nbformat": 4,
 "nbformat_minor": 2
}
